{
  "nbformat": 4,
  "nbformat_minor": 0,
  "metadata": {
    "colab": {
      "name": "Head Pose Estimation - Supervised Machine Learning Model",
      "provenance": [],
      "mount_file_id": "1ZjHhNzgtb4TLeruMp_nvsJTohDBiiHvL",
      "authorship_tag": "ABX9TyPIq2RLJT2zb6sKiNWQu4Bv",
      "include_colab_link": true
    },
    "kernelspec": {
      "name": "python3",
      "display_name": "Python 3"
    },
    "language_info": {
      "name": "python"
    }
  },
  "cells": [
    {
      "cell_type": "markdown",
      "metadata": {
        "id": "view-in-github",
        "colab_type": "text"
      },
      "source": [
        "<a href=\"https://colab.research.google.com/github/YousraAshour/Head-Pose-Detection/blob/main/Head_Pose_Estimation_Supervised_Machine_Learning_Model.ipynb\" target=\"_parent\"><img src=\"https://colab.research.google.com/assets/colab-badge.svg\" alt=\"Open In Colab\"/></a>"
      ]
    },
    {
      "cell_type": "code",
      "execution_count": null,
      "metadata": {
        "id": "nBX6Rd4SdtEu"
      },
      "outputs": [],
      "source": [
        "!pip install -q opencv-python\n",
        "!pip install -q mediapipe\n",
        "!pip install -q mediapipe"
      ]
    },
    {
      "cell_type": "code",
      "source": [
        "import os\n",
        "import cv2\n",
        "import glob\n",
        "import warnings\n",
        "import mediapipe\n",
        "import numpy as np\n",
        "import pandas as pd\n",
        "import matplotlib.pyplot as plt\n",
        "from xgboost import XGBRegressor\n",
        "from sklearn.metrics import mean_absolute_error\n",
        "from sklearn.model_selection import train_test_split\n",
        "import scipy.io as sio\n",
        "from pathlib import Path\n",
        "from math import cos, sin\n",
        "\n",
        "%matplotlib inline\n",
        "warnings.filterwarnings('ignore')"
      ],
      "metadata": {
        "id": "Om3yNxRKrnUf"
      },
      "execution_count": null,
      "outputs": []
    },
    {
      "cell_type": "code",
      "source": [
        "# link of the data\n",
        "# http://www.cbsr.ia.ac.cn/users/xiangyuzhu/projects/3DDFA/Database/AFLW2000-3D.zip"
      ],
      "metadata": {
        "id": "W456tQ91l-Rw"
      },
      "execution_count": null,
      "outputs": []
    },
    {
      "cell_type": "code",
      "source": [
        "from google.colab import drive\n",
        "drive.mount('/content/drive')"
      ],
      "metadata": {
        "colab": {
          "base_uri": "https://localhost:8080/"
        },
        "id": "8ebNXkAzf-y9",
        "outputId": "7bbb1f21-5a47-466a-95dc-530e339145c2"
      },
      "execution_count": null,
      "outputs": [
        {
          "output_type": "stream",
          "name": "stdout",
          "text": [
            "Drive already mounted at /content/drive; to attempt to forcibly remount, call drive.mount(\"/content/drive\", force_remount=True).\n"
          ]
        }
      ]
    },
    {
      "cell_type": "code",
      "source": [
        "from zipfile import ZipFile\n",
        "names_path=[]\n",
        "with ZipFile('/content/drive/MyDrive/ITI/Projects/Head-Pose-Estimation/AFLW2000-3D.zip', 'r') as zipObject:\n",
        "   \n",
        "   # Extract all the contents of zip file in different directory\n",
        "   zipObject.extractall('/content/')\n",
        "   listOfFileNames = zipObject.namelist()\n",
        "\n",
        "   for fileName in listOfFileNames:\n",
        "       if fileName.endswith('.jpg'):\n",
        "           # Extract a single file from zip\n",
        "           names_path.append(zipObject.extract(fileName).split('.')[0])\n",
        "len(names_path)           \n",
        "          "
      ],
      "metadata": {
        "id": "bWOBfinyu8qs",
        "colab": {
          "base_uri": "https://localhost:8080/"
        },
        "outputId": "f8aee7a1-c2fb-45c8-c43a-2aa14b5a60fc"
      },
      "execution_count": 69,
      "outputs": [
        {
          "output_type": "execute_result",
          "data": {
            "text/plain": [
              "2000"
            ]
          },
          "metadata": {},
          "execution_count": 69
        }
      ]
    },
    {
      "cell_type": "code",
      "source": [
        "dir_path = '/content/AFLW2000/'\n",
        "paths = os.listdir(dir_path)\n",
        "names = [x.split('.')[0] for x in paths if x.endswith('.jpg')]\n",
        "\n",
        "# names= [Path(f).stem for f in glob.glob(\"/content/AFLW2000/*.mat\")]"
      ],
      "metadata": {
        "id": "vNpAzDDLvcT8"
      },
      "execution_count": 70,
      "outputs": []
    },
    {
      "cell_type": "code",
      "source": [
        "faceModule = mediapipe.solutions.face_mesh\n",
        "len(names_path)"
      ],
      "metadata": {
        "id": "vr9O-OwnmAqv",
        "colab": {
          "base_uri": "https://localhost:8080/"
        },
        "outputId": "66fe06ff-9ae4-4fe0-d0ba-b2f7c006b317"
      },
      "execution_count": 71,
      "outputs": [
        {
          "output_type": "execute_result",
          "data": {
            "text/plain": [
              "2000"
            ]
          },
          "metadata": {},
          "execution_count": 71
        }
      ]
    },
    {
      "cell_type": "code",
      "source": [
        "landmarks=[]\n",
        "res_imgs=[]\n",
        "X=[]\n",
        "Y=[]\n",
        "poses=[]\n",
        "for path in names_path:\n",
        "    with faceModule.FaceMesh(static_image_mode=True) as face:\n",
        "      image = cv2.imread(path + '.jpg')\n",
        "      points = face.process(cv2.cvtColor(image, cv2.COLOR_BGR2RGB))\n",
        "      \n",
        "      if points.multi_face_landmarks: \n",
        "\n",
        "          landmark=points.multi_face_landmarks[0]\n",
        "          res_imgs.append(path)\n",
        "          x_local=[]\n",
        "          y_local=[]\n",
        "          for points in landmark.landmark:\n",
        "            x= points.x\n",
        "            y= points.y\n",
        "\n",
        "            shape = image.shape \n",
        "            relative_x = int(x * shape[1])\n",
        "            relative_y = int(y * shape[0])\n",
        "            # X_features\n",
        "            x_local.append(relative_x)\n",
        "            # Y_features\n",
        "            y_local.append(relative_y)\n",
        "\n",
        "          \n",
        "          X.append(np.array(x_local))\n",
        "          Y.append(np.array(y_local))\n",
        "\n",
        "          mat_file = sio.loadmat(path +'.mat')\n",
        "          pose_para = mat_file[\"Pose_Para\"][0][:3]\n",
        "          poses.append(np.array(pose_para)) \n",
        "          "
      ],
      "metadata": {
        "id": "RgMhI_FdryRe"
      },
      "execution_count": 90,
      "outputs": []
    },
    {
      "cell_type": "code",
      "source": [
        "poses=np.array(poses)\n",
        "X=np.array(X)\n",
        "Y=np.array(Y)\n",
        "\n",
        "pitch_label = poses[0:,0]\n",
        "\n",
        "yaw_label = poses[0:,1]\n",
        "\n",
        "roll_label = poses[0:,2]\n",
        "print(X.shape)\n",
        "print(Y.shape)\n",
        "print(poses.shape)"
      ],
      "metadata": {
        "id": "26Xz-5PgrzPB",
        "colab": {
          "base_uri": "https://localhost:8080/"
        },
        "outputId": "465294d3-9769-427f-8ff0-9c9c0ad6f50f"
      },
      "execution_count": 94,
      "outputs": [
        {
          "output_type": "stream",
          "name": "stdout",
          "text": [
            "(1853, 468)\n",
            "(1853, 468)\n",
            "(1853, 3)\n"
          ]
        }
      ]
    },
    {
      "cell_type": "code",
      "source": [
        "Mean_X = X - X[:,1].reshape(-1,1)\n",
        "Mean_Y = Y - Y[:,1].reshape(-1,1)\n",
        "\n",
        "X_0 = X[:,0]\n",
        "X_100 = X[:,100]\n",
        "Y_0 = Y[:,0]\n",
        "Y_100 = Y[:,100]\n",
        "\n",
        "distance = np.linalg.norm(np.array((X_0,Y_0)) - np.array((X_100,Y_100)),axis = 0).reshape(-1,1)\n",
        "Norm_X = Mean_X / distance\n",
        "Norm_Y = Mean_Y / distance\n",
        "\n",
        "print(Norm_X.shape)\n",
        "print(Norm_Y.shape)\n",
        "\n",
        "features = np.hstack([Norm_X,Norm_Y])\n",
        "print(features.shape)"
      ],
      "metadata": {
        "colab": {
          "base_uri": "https://localhost:8080/"
        },
        "id": "V4cEwzJTLUK7",
        "outputId": "9d84c029-61dd-481c-f26b-f1f1ea95ee6b"
      },
      "execution_count": 95,
      "outputs": [
        {
          "output_type": "stream",
          "name": "stdout",
          "text": [
            "(1853, 468)\n",
            "(1853, 468)\n",
            "(1853, 936)\n"
          ]
        }
      ]
    },
    {
      "cell_type": "code",
      "source": [
        ""
      ],
      "metadata": {
        "id": "Wix1rGr0P5Ig"
      },
      "execution_count": null,
      "outputs": []
    },
    {
      "cell_type": "code",
      "source": [
        ""
      ],
      "metadata": {
        "id": "bScLcbrmSp8_"
      },
      "execution_count": null,
      "outputs": []
    },
    {
      "cell_type": "code",
      "source": [
        ""
      ],
      "metadata": {
        "id": "MpdgR6cHSqAE"
      },
      "execution_count": null,
      "outputs": []
    },
    {
      "cell_type": "code",
      "source": [
        "def draw_axis(img, pitch,yaw,roll, tdx=None, tdy=None, size = 100):\n",
        "\n",
        "    yaw = -yaw\n",
        "    if tdx != None and tdy != None:\n",
        "        tdx = tdx\n",
        "        tdy = tdy\n",
        "    else:\n",
        "        height, width = img.shape[:2]\n",
        "        tdx = width / 2\n",
        "        tdy = height / 2\n",
        "\n",
        "    # X-Axis pointing to right. drawn in red\n",
        "    x1 = size * (cos(yaw) * cos(roll)) + tdx\n",
        "    y1 = size * (cos(pitch) * sin(roll) + cos(roll) * sin(pitch) * sin(yaw)) + tdy\n",
        "\n",
        "    # Y-Axis | drawn in green\n",
        "    #        v\n",
        "    x2 = size * (-cos(yaw) * sin(roll)) + tdx\n",
        "    y2 = size * (cos(pitch) * cos(roll) - sin(pitch) * sin(yaw) * sin(roll)) + tdy\n",
        "\n",
        "    # Z-Axis (out of the screen) drawn in blue\n",
        "    x3 = size * (sin(yaw)) + tdx\n",
        "    y3 = size * (-cos(yaw) * sin(pitch)) + tdy\n",
        "\n",
        "    cv2.line(img, (int(tdx), int(tdy)), (int(x1),int(y1)),(0,0,255),3)\n",
        "    cv2.line(img, (int(tdx), int(tdy)), (int(x2),int(y2)),(0,255,0),3)\n",
        "    cv2.line(img, (int(tdx), int(tdy)), (int(x3),int(y3)),(255,0,0),2)\n",
        "\n",
        "    return img"
      ],
      "metadata": {
        "id": "udJKjIDmSsrE"
      },
      "execution_count": 96,
      "outputs": []
    },
    {
      "cell_type": "code",
      "source": [
        ""
      ],
      "metadata": {
        "id": "nm4g-mp0SuCa"
      },
      "execution_count": null,
      "outputs": []
    }
  ]
}